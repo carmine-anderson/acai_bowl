{
 "cells": [
  {
   "attachments": {},
   "cell_type": "markdown",
   "metadata": {},
   "source": [
    "# `Acai Bowl Generator Break-Down`\n",
    "The program was developed to create a randomized açaí bowl from the restaurant: \n",
    "`Sweetberry Bowl`\n"
   ]
  },
  {
   "cell_type": "code",
   "execution_count": 40,
   "metadata": {},
   "outputs": [
    {
     "name": "stdout",
     "output_type": "stream",
     "text": [
      "By: Carmine Anderson - Falconi\n"
     ]
    }
   ],
   "source": [
    "__author__ = \"Carmine Anderson - Falconi\"\n",
    "print(f\"By: {__author__}\")"
   ]
  },
  {
   "attachments": {},
   "cell_type": "markdown",
   "metadata": {},
   "source": [
    "#### `The following markdowns and example code will describe and show how the developed functions, methods and classes function.`"
   ]
  },
  {
   "cell_type": "code",
   "execution_count": 41,
   "metadata": {},
   "outputs": [
    {
     "name": "stdout",
     "output_type": "stream",
     "text": [
      "Autoreload of imported modules enabled. Be sure to save your work in other modules before refreshing cells.\n",
      "<class 'acai_bowl_generator2.Sweetberry_Bowl'> successfully imported.\n"
     ]
    }
   ],
   "source": [
    "%reload_ext autoreload\n",
    "%autoreload 2\n",
    "print(\"Autoreload of imported modules enabled. Be sure to save your work in other modules before refreshing cells.\")\n",
    "\n",
    "# Import the class being implemented\n",
    "from acai_bowl_generator2 import size_decider, base_decider, drizzle_decider, topping_selector, immunity, fruit_selector, Sweetberry_Bowl\n",
    "from random import randint\n",
    "from typing import Union\n",
    "print(f\"{Sweetberry_Bowl} successfully imported.\")"
   ]
  },
  {
   "attachments": {},
   "cell_type": "markdown",
   "metadata": {},
   "source": [
    "## Part One of the Bowl: `size_decider`\n",
    "\n",
    "The `first` function takes a number that is chosen earlier in the program through `randint()` to allow for a randomized outcome of the function each time. It will result in `str` that will equate the variable `size` in the program.\n",
    "\n",
    "For the case of the example code below, we will force an integer rather than rely on `randint()`\n",
    "\n",
    "it does this through the function call: \n",
    "\n",
    "`hunger_level: int = randint(0, 1)`\n",
    "\n",
    "`size: str = size_decider(hunger_level)`"
   ]
  },
  {
   "cell_type": "code",
   "execution_count": 42,
   "metadata": {},
   "outputs": [
    {
     "name": "stdout",
     "output_type": "stream",
     "text": [
      "Expected Output: \"Junior Bowl\".\n",
      "Actual Output: \"Junior Bowl\".\n",
      "\n",
      "\n",
      "Expected Output: \"Regular Bowl\".\n",
      "Actual Output: \"Regular Bowl\".\n"
     ]
    }
   ],
   "source": [
    "hunger_level: int = 0\n",
    "size: str = size_decider(hunger_level)\n",
    "print(\"Expected Output: \\\"Junior Bowl\\\".\")\n",
    "print(f\"Actual Output: \\\"{size}\\\".\")\n",
    "\n",
    "print(\"\\n\")\n",
    "\n",
    "hunger_level2: int = 1\n",
    "size2: str = size_decider(hunger_level2)\n",
    "print(\"Expected Output: \\\"Regular Bowl\\\".\")\n",
    "print(f\"Actual Output: \\\"{size2}\\\".\")\n",
    "\n"
   ]
  },
  {
   "attachments": {},
   "cell_type": "markdown",
   "metadata": {},
   "source": [
    "## Part Two of the Bowl: `base_decider`\n",
    "\n",
    "The `second` function takes a number that is chosen earlier in the prgoram through `randint()` to allow for a randomized outcome of the function each time. It will result in a `str` that will equate the variable `base` in the program.\n",
    "\n",
    "For the case of the example code below, we will force and integer rather than rely on `randint()`\n",
    "\n",
    "It does this through the function call:\n",
    "\n",
    "`random_base: int = randint(0, 10)`\n",
    "\n",
    "`base: str = base_decider(random_base)`"
   ]
  },
  {
   "cell_type": "code",
   "execution_count": 43,
   "metadata": {},
   "outputs": [
    {
     "name": "stdout",
     "output_type": "stream",
     "text": [
      "Expected Output: \"Acai Bowl\".\n",
      "Actual Output: \"Acai\".\n",
      "\n",
      "\n",
      "Expected Output: \"Coconut Base\".\n",
      "Actual Output: \"Coconut\".\n"
     ]
    }
   ],
   "source": [
    "random_base: int = 4\n",
    "base: str = base_decider(random_base)\n",
    "print(\"Expected Output: \\\"Acai Bowl\\\".\")\n",
    "print(f\"Actual Output: \\\"{base}\\\".\")\n",
    "\n",
    "print(\"\\n\")\n",
    "\n",
    "random_base2: int = 8\n",
    "base2: str = base_decider(random_base2)\n",
    "print(\"Expected Output: \\\"Coconut Base\\\".\")\n",
    "print(f\"Actual Output: \\\"{base2}\\\".\")\n"
   ]
  },
  {
   "attachments": {},
   "cell_type": "markdown",
   "metadata": {},
   "source": [
    "## Part Three of the Bowl: `drizzle_decider`\n",
    "\n",
    "The `third` function takes a number that is chosen earlier in the program through `randint()` to allow for a randomized outcome of the function each time. It will result in `str` that will equate the variable `drizzle` in the program.\n",
    "\n",
    "For the case of the example code below, we will force an integer rather than rely on `randint()`\n",
    "\n",
    "it does this through the function call: \n",
    "\n",
    "`random_drizzle: int = randint(0, 10)`\n",
    "\n",
    "`drizzle: str = drizzle_decider(random_drizzle)`"
   ]
  },
  {
   "cell_type": "code",
   "execution_count": 44,
   "metadata": {},
   "outputs": [
    {
     "name": "stdout",
     "output_type": "stream",
     "text": [
      "Expected Output: \"Agave\".\n",
      "Actual Output: \"Agave\".\n",
      "\n",
      "\n",
      "Expected Output: \"Nutella\".\n",
      "Actual Output: \"Nutella\".\n",
      "\n",
      "\n",
      "Expected Output: \"No\".\n",
      "Actual Output: \"No\".\n"
     ]
    }
   ],
   "source": [
    "random_drizzle: int = 4\n",
    "drizzle: str = drizzle_decider(random_drizzle)\n",
    "print(\"Expected Output: \\\"Agave\\\".\")\n",
    "print(f\"Actual Output: \\\"{drizzle}\\\".\")\n",
    "\n",
    "print(\"\\n\")\n",
    "\n",
    "random_drizzle2: int = 8\n",
    "drizzle2: str = drizzle_decider(random_drizzle2)\n",
    "print(\"Expected Output: \\\"Nutella\\\".\")\n",
    "print(f\"Actual Output: \\\"{drizzle2}\\\".\")\n",
    "\n",
    "print(\"\\n\")\n",
    "\n",
    "random_drizzle3: int = 3\n",
    "drizzle3: str = drizzle_decider(random_drizzle3)\n",
    "print(\"Expected Output: \\\"No\\\".\")\n",
    "print(f\"Actual Output: \\\"{drizzle3}\\\".\")"
   ]
  },
  {
   "attachments": {},
   "cell_type": "markdown",
   "metadata": {},
   "source": [
    "## Part Four of the Bowl: `topping_selector`\n",
    "\n",
    "The `fourth` function takes a list of strs that serves as the ingredient list of toppings that Sweetberry Bowls offers to be added to the bowl. It will result in `list[str]` that will equate the variable `topping_list` in the program.\n",
    "\n",
    "There are no set expectations of this function because the function itself has four different random_topping integers that are also set within each individual function call using the `randint()` built-in, and each change after each loop of the while loop by adding or subtracting a static integer.\n",
    "\n",
    "it does this through the function call: \n",
    "\n",
    "`Toppings: list[str] = [`\n",
    "    `\"Craisins\", \"Almonds\", \"Granola\",`\n",
    "    `\"Whey Choc Protein\", \"Kale\", \"Whey Vanilla Protein\",`\n",
    "    `\"Pumpkin Seeds\", \"Walnuts\", \"Spirulina\",`\n",
    "    `\"Spinach\", \"Flax Oil\", \"Coconut Flakes\",`\n",
    "    `\"Goji Berries\", \"Bee Pollen\", \"Hemp Seeds\",`\n",
    "    `\"Chia Seeds\", \"Cocao Nibs\", \"Nutella\",`\n",
    "    `\"Peanut Butter\", \"Agave\", \"Honey\",`\n",
    "    `\"Pineapple\", \"Mango\", \"Blueberry\",`\n",
    "    `\"Kiwi\", \"Banana\", \"Strawberry\",`\n",
    "    `\"Glutten Free Granola\"`\n",
    "    `]`\n",
    "\n",
    "`topping_list: list[str] = topping_selector(toppings)`"
   ]
  },
  {
   "cell_type": "code",
   "execution_count": 45,
   "metadata": {},
   "outputs": [
    {
     "name": "stdout",
     "output_type": "stream",
     "text": [
      "First Topping List: ['Coconut Flakes', 'Goji Berries', 'Craisins', 'Chia Seeds']\n",
      "Second Topping List: ['Walnuts', 'Spirulina', 'Banana', 'Coconut Flakes']\n",
      "Thirs Topping List: ['Almonds', 'Granola', 'Spirulina', 'Kale']\n"
     ]
    }
   ],
   "source": [
    "toppings: list[str] = [\n",
    "    \"Craisins\", \"Almonds\", \"Granola\",\n",
    "    \"Whey Choc Protein\", \"Kale\", \"Whey Vanilla Protein\",\n",
    "    \"Pumpkin Seeds\", \"Walnuts\", \"Spirulina\",\n",
    "    \"Spinach\", \"Flax Oil\", \"Coconut Flakes\",\n",
    "    \"Goji Berries\", \"Bee Pollen\", \"Hemp Seeds\",\n",
    "    \"Chia Seeds\", \"Cocao Nibs\", \"Nutella\",\n",
    "    \"Peanut Butter\", \"Agave\", \"Honey\",\n",
    "    \"Pineapple\", \"Mango\", \"Blueberry\",\n",
    "    \"Kiwi\", \"Banana\", \"Strawberry\",\n",
    "    \"Glutten Free Granola\"\n",
    "]\n",
    "\n",
    "# NOTICE three different functions calls using the same toppings list\n",
    "topping_list_one: list[str] = topping_selector(toppings)\n",
    "topping_list_two: list[str] = topping_selector(toppings)\n",
    "topping_list_three: list[str] = topping_selector(toppings)\n",
    "\n",
    "# NOTICE these calls will yielf differing results\n",
    "print(f\"First Topping List: {topping_list_one}\")\n",
    "print(f\"Second Topping List: {topping_list_two}\")\n",
    "print(f\"Thirs Topping List: {topping_list_three}\")"
   ]
  },
  {
   "attachments": {},
   "cell_type": "markdown",
   "metadata": {},
   "source": [
    "## Part Five of the Bowl: `immunity`\n",
    "\n",
    "The `fifth` function takes two numbers; the first being a random integer pulled in the beginning of the program, and the second being another random integer also pulled in the beginning of the program. Both of these random integers are decided through the use of `randint()` to allow for a randomized outcome of the function each time the program runs. It will result in `str` that will equate the variable `immunity_booster` in the program.\n",
    "\n",
    "it does this through the function call: \n",
    "\n",
    "`random_immunity: int = randint(0, 1)`\n",
    "\n",
    "`double_immunity: int = randint(0, 1)`\n",
    "\n",
    "`immunity_booster: str = immunity(random_immunity, double_immunity)`\n",
    "\n",
    "For the case of the example code below, we will force an integer rather than rely on `randint()`\n"
   ]
  },
  {
   "cell_type": "code",
   "execution_count": 46,
   "metadata": {},
   "outputs": [
    {
     "name": "stdout",
     "output_type": "stream",
     "text": [
      "Expected Output: \"No Immunity\".\n",
      "Actual Output: \"No Immunity\".\n",
      "\n",
      "\n",
      "Expected Output: \"Single Immunity Booster\".\n",
      "Actual Output: \"Single Immunity Booster\".\n",
      "\n",
      "\n",
      "Expected Output: \"Double Immunity Booster\".\n",
      "Actual Output: \"Double Immunity Booster\".\n"
     ]
    }
   ],
   "source": [
    "# Example to output no Immunity\n",
    "number_for_no_immunity: int = 0\n",
    "not_important: int = 0\n",
    "# The line above is not important because python won't reach that line of code.\n",
    "immunity_booster: str = immunity(number_for_no_immunity, not_important)\n",
    "print(\"Expected Output: \\\"No Immunity\\\".\")\n",
    "print(f\"Actual Output: \\\"{immunity_booster}\\\".\")\n",
    "\n",
    "print(\"\\n\")\n",
    "\n",
    "# Example to output 'Single Immunity'\n",
    "number_for_immunity: int = 1\n",
    "number_for_single_dose: int = 0\n",
    "immunity_booster2: str = immunity(number_for_immunity, number_for_single_dose)\n",
    "print(\"Expected Output: \\\"Single Immunity Booster\\\".\")\n",
    "print(f\"Actual Output: \\\"{immunity_booster2}\\\".\")\n",
    "\n",
    "print(\"\\n\")\n",
    "\n",
    "# Example to output 'Double Immunity'\n",
    "number_for_immunity2: int = 1\n",
    "number_for_double_dose: int = 1\n",
    "immunity_booster3: str = immunity(number_for_immunity2, number_for_double_dose)\n",
    "print(\"Expected Output: \\\"Double Immunity Booster\\\".\")\n",
    "print(f\"Actual Output: \\\"{immunity_booster3}\\\".\")"
   ]
  },
  {
   "attachments": {},
   "cell_type": "markdown",
   "metadata": {},
   "source": [
    "## Part Six of the Bowl: `fruit_selector`\n",
    "\n",
    "The `sixth` function takes both a list of string variables that is a list of the fruits offered; as well as a random number pulled using `randint()` to allow for a randomized outcome of the function each time the program runs and calls `fruit_selector()`. This function will result in a Union[] of either a single string or a list of strings. \n",
    "\n",
    "Due to the ability to choose fruits at random and up to a specific number of fruits (however, doesn't need to reach the max.) It was decided that a Union result would benefit this function. This allows for the function to return random amounts of fruit if the integer is greater than `0`. If the ``number`` that the function is called with is zero, the function will immediately return `No Fruit`.\n",
    "\n",
    "it does this through the use of the following variables and function call: \n",
    "\n",
    "`fruit_first_random: int = randint(0, 5)`\n",
    "\n",
    "This following variable is what's called with the function as the `number` parameter..\n",
    "\n",
    "`random_fruit: int = randint(0, 3)`\n",
    "\n",
    "The variable `fruits` in the following function call and variable establishment will be respresented below in the code demonstration.\n",
    "\n",
    "`fruit_list: list[str] = fruit_selector(fruits, random_fruit)`\n",
    "\n",
    "For the case of the example code below, we will force an integer rather than rely on `randint()`\n"
   ]
  },
  {
   "cell_type": "code",
   "execution_count": 52,
   "metadata": {},
   "outputs": [
    {
     "name": "stdout",
     "output_type": "stream",
     "text": [
      "Example One...\n",
      "Expected Output: \"No Fruit\".\n",
      "Actual Output: \"No Fruit\".\n",
      "\n",
      "\n",
      "Example Two...\n",
      "Expected Output: \"['Kiwi', 'Kiwi', 'Blueberry']\".\n",
      "Actual Output: \"['Kiwi', 'Kiwi', 'Blueberry']\".\n",
      "\n",
      "\n",
      "Example Three...\n",
      "Expected Output: \"['Kiwi', 'Banana', 'Blueberry']\".\n",
      "Actual Output: \"['Kiwi', 'Banana', 'Blueberry']\".\n"
     ]
    }
   ],
   "source": [
    "#### Code demonstration for the function fruit_selector\n",
    "\n",
    "fruits: list[str] = [\n",
    "    \"Strawberry\", \n",
    "    \"Banana\",\n",
    "    \"Kiwi\",\n",
    "    \"Blueberry\",\n",
    "    \"Mango\",\n",
    "    \"Pineapple\"\n",
    "]\n",
    "\n",
    "\n",
    "the_following: str = \"Example One...\"\n",
    "print(the_following)\n",
    "\n",
    "# The following lines are forced randint integers\n",
    "# It would be for example.. variable_name: int = randint(0, 5)\n",
    "fruit_first_random: int = 0\n",
    "random_fruit: int = 0\n",
    "fruits_1: Union[str, list[str]] = fruit_selector(fruits, random_fruit)\n",
    "\n",
    "print(\"Expected Output: \\\"No Fruit\\\".\")\n",
    "print(f\"Actual Output: \\\"{fruits_1}\\\".\")\n",
    "\n",
    "print(\"\\n\")\n",
    "\n",
    "the_following_2: str = \"Example Two...\"\n",
    "print(the_following_2)\n",
    "fruit_first_random_2: int = 1\n",
    "random_fruit_2: int = 2\n",
    "fruits_2: list[str] = fruit_selector(fruits, random_fruit_2)\n",
    "\n",
    "print(\"Expected Output: \\\"['Kiwi', 'Kiwi', 'Blueberry']\\\".\")\n",
    "print(f\"Actual Output: \\\"{fruits_2}\\\".\")\n",
    "\n",
    "print(\"\\n\")\n",
    "\n",
    "the_following_3: str = \"Example Three...\"\n",
    "print(the_following_3)\n",
    "fruit_first_random_3: int = 3\n",
    "random_fruit_3: int = 4\n",
    "fruits_3: list[str] = fruit_selector(fruits, random_fruit_3)\n",
    "\n",
    "print(\"Expected Output: \\\"['Kiwi', 'Banana', 'Blueberry']\\\".\")\n",
    "print(f\"Actual Output: \\\"{fruits_3}\\\".\")"
   ]
  },
  {
   "cell_type": "code",
   "execution_count": null,
   "metadata": {},
   "outputs": [],
   "source": [
    "# TODO Explain the class and how its method `price` works"
   ]
  }
 ],
 "metadata": {
  "kernelspec": {
   "display_name": "Python 3.10.6 64-bit",
   "language": "python",
   "name": "python3"
  },
  "language_info": {
   "codemirror_mode": {
    "name": "ipython",
    "version": 3
   },
   "file_extension": ".py",
   "mimetype": "text/x-python",
   "name": "python",
   "nbconvert_exporter": "python",
   "pygments_lexer": "ipython3",
   "version": "3.10.6"
  },
  "orig_nbformat": 4,
  "vscode": {
   "interpreter": {
    "hash": "aee8b7b246df8f9039afb4144a1f6fd8d2ca17a180786b69acc140d282b71a49"
   }
  }
 },
 "nbformat": 4,
 "nbformat_minor": 2
}
